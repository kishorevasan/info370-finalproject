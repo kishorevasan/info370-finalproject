{
 "cells": [
  {
   "cell_type": "code",
   "execution_count": 1,
   "metadata": {
    "collapsed": true
   },
   "outputs": [],
   "source": [
    "import pandas as pd\n",
    "import re\n",
    "import datetime\n",
    "from datetime import timedelta\n",
    "import matplotlib.pyplot as plt\n",
    "import matplotlib"
   ]
  },
  {
   "cell_type": "code",
   "execution_count": 2,
   "metadata": {},
   "outputs": [
    {
     "data": {
      "text/html": [
       "<div>\n",
       "<style>\n",
       "    .dataframe thead tr:only-child th {\n",
       "        text-align: right;\n",
       "    }\n",
       "\n",
       "    .dataframe thead th {\n",
       "        text-align: left;\n",
       "    }\n",
       "\n",
       "    .dataframe tbody tr th {\n",
       "        vertical-align: top;\n",
       "    }\n",
       "</style>\n",
       "<table border=\"1\" class=\"dataframe\">\n",
       "  <thead>\n",
       "    <tr style=\"text-align: right;\">\n",
       "      <th></th>\n",
       "      <th>id</th>\n",
       "      <th>created_at</th>\n",
       "      <th>text</th>\n",
       "    </tr>\n",
       "  </thead>\n",
       "  <tbody>\n",
       "    <tr>\n",
       "      <th>0</th>\n",
       "      <td>921242760685998080</td>\n",
       "      <td>2017-10-20 05:12:44</td>\n",
       "      <td>b'Great news on the 2018 budget @SenateMajLdr ...</td>\n",
       "    </tr>\n",
       "    <tr>\n",
       "      <th>1</th>\n",
       "      <td>921209530628956161</td>\n",
       "      <td>2017-10-20 03:00:42</td>\n",
       "      <td>b'Big ratings getter @seanhannity and Apprenti...</td>\n",
       "    </tr>\n",
       "    <tr>\n",
       "      <th>2</th>\n",
       "      <td>921207772233990144</td>\n",
       "      <td>2017-10-20 02:53:42</td>\n",
       "      <td>b'The Fake News is going crazy with wacky Cong...</td>\n",
       "    </tr>\n",
       "    <tr>\n",
       "      <th>3</th>\n",
       "      <td>921189980843663360</td>\n",
       "      <td>2017-10-20 01:43:00</td>\n",
       "      <td>b'Keep up the GREAT work. I am with you 100%!\\...</td>\n",
       "    </tr>\n",
       "    <tr>\n",
       "      <th>4</th>\n",
       "      <td>921113816053755904</td>\n",
       "      <td>2017-10-19 20:40:21</td>\n",
       "      <td>b'It was great to have Governor @RicardoRossel...</td>\n",
       "    </tr>\n",
       "  </tbody>\n",
       "</table>\n",
       "</div>"
      ],
      "text/plain": [
       "                   id           created_at  \\\n",
       "0  921242760685998080  2017-10-20 05:12:44   \n",
       "1  921209530628956161  2017-10-20 03:00:42   \n",
       "2  921207772233990144  2017-10-20 02:53:42   \n",
       "3  921189980843663360  2017-10-20 01:43:00   \n",
       "4  921113816053755904  2017-10-19 20:40:21   \n",
       "\n",
       "                                                text  \n",
       "0  b'Great news on the 2018 budget @SenateMajLdr ...  \n",
       "1  b'Big ratings getter @seanhannity and Apprenti...  \n",
       "2  b'The Fake News is going crazy with wacky Cong...  \n",
       "3  b'Keep up the GREAT work. I am with you 100%!\\...  \n",
       "4  b'It was great to have Governor @RicardoRossel...  "
      ]
     },
     "execution_count": 2,
     "metadata": {},
     "output_type": "execute_result"
    }
   ],
   "source": [
    "df = pd.read_csv(\"realDonaldTrump_tweets.csv\")\n",
    "df.head()"
   ]
  },
  {
   "cell_type": "code",
   "execution_count": 3,
   "metadata": {
    "collapsed": true
   },
   "outputs": [],
   "source": [
    "tweets = df.text.tolist()\n",
    "cleanedtweets = []\n",
    "numremoved = 0"
   ]
  },
  {
   "cell_type": "code",
   "execution_count": 4,
   "metadata": {
    "collapsed": true
   },
   "outputs": [],
   "source": [
    "#Remove starting two characters and last character\n",
    "for i in range(len(tweets)):\n",
    "    tweets[i] = tweets[i][2:len(tweets[i])-1]\n",
    "    if tweets[i].startswith(\"RT\"):\n",
    "        numremoved+=1\n",
    "    while \"\\\\\" in tweets[i]:\n",
    "        idx = tweets[i].index(\"\\\\\")\n",
    "        tweets[i] = tweets[i][:idx] +\" \"+tweets[i][idx+4:]\n",
    "    tweets[i] =  re.sub(' +',' ',tweets[i])\n",
    "    cleanedtweets.append(tweets[i])"
   ]
  },
  {
   "cell_type": "code",
   "execution_count": 5,
   "metadata": {},
   "outputs": [
    {
     "data": {
      "text/plain": [
       "'It was great to have Governor @RicardoRossello of #PuertoRico with us at the @WhiteHouse today. We are with you! https://t.co/Q2NhV2MAXD'"
      ]
     },
     "execution_count": 5,
     "metadata": {},
     "output_type": "execute_result"
    }
   ],
   "source": [
    "tweets[4].decode('utf8').encode('ascii', errors='ignore')"
   ]
  },
  {
   "cell_type": "code",
   "execution_count": 6,
   "metadata": {},
   "outputs": [
    {
     "data": {
      "text/plain": [
       "['Great news on the 2018 budget @SenateMajLdr McConnell - first step toward delivering MASSIVE tax cuts for the Ameri https://t.co/pxcNfDTNAd',\n",
       " 'Big ratings getter @seanhannity and Apprentice Champion John Rich are right now going on stage in Las Vegas for #VegasStrong. Great Show!',\n",
       " 'The Fake News is going crazy with wacky Congresswoman Wilson(D), who was SECRETLY on a very personal call, and gave a total lie on content!',\n",
       " 'Keep up the GREAT work. I am with you 100%! \"ISIS is losing its grip...\" my Colonel Ryan Dillon TF OIR https://t.co/EXqgvquLiK',\n",
       " 'It was great to have Governor @RicardoRossello of #PuertoRico with us at the @WhiteHouse today. We are with you! https://t.co/Q2NhV2MAXD',\n",
       " 'RT @USArmy333: @804StreetMedia @realDonaldTrump He s done more in 9 months then obama did in8 yrs',\n",
       " '.@foxandfriends \"Russia sent millions to Clinton Foundation\"',\n",
       " 'Workers of firm involved with the discredited and Fake Dossier take the 5th. Who paid for it, Russia, the FBI or the Dems (or all)?',\n",
       " \"Uranium deal to Russia, with Clinton help and Obama Administration knowledge, is the biggest story that Fake Media doesn't want to follow!\",\n",
       " 'Republicans are going for the big Budget approval today, first step toward massive tax cuts. I think we have the votes, but who knows?']"
      ]
     },
     "execution_count": 6,
     "metadata": {},
     "output_type": "execute_result"
    }
   ],
   "source": [
    "cleanedtweets[:10]"
   ]
  },
  {
   "cell_type": "code",
   "execution_count": 7,
   "metadata": {
    "collapsed": true
   },
   "outputs": [],
   "source": [
    "dates = df.created_at.tolist()\n",
    "firstdatelist = map(int,dates[0][:10].split(\"-\"))\n",
    "oldestdatelist = map(int,dates[-1][:10].split(\"-\"))\n",
    "date1 = datetime.date(firstdatelist[0],firstdatelist[1],firstdatelist[2])\n",
    "date2 = datetime.date(oldestdatelist[0],oldestdatelist[1],oldestdatelist[1])\n",
    "\n",
    "delta = date1 - date2         # timedelta\n",
    "alldates = []\n",
    "for i in range(delta.days + 1):\n",
    "    alldates.append(date2+ timedelta(days=i))\n",
    "for j in range(len(alldates)):\n",
    "    if len(str(alldates[j].day))==1:\n",
    "        if len(str(alldates[j].month))==1:\n",
    "            alldates[j] = \"-\".join([str(alldates[j].year),\"0\"+str(alldates[j].month),\"0\"+str(alldates[j].day)])\n",
    "        else:\n",
    "            alldates[j] = \"-\".join([str(alldates[j].year),str(alldates[j].month),\"0\"+str(alldates[j].day)])\n",
    "    elif len(str(alldates[j].month))==1:\n",
    "        alldates[j] = \"-\".join([str(alldates[j].year),\"0\"+str(alldates[j].month),str(alldates[j].day)])\n",
    "    else:\n",
    "        alldates[j] = \"-\".join([str(alldates[j].year),str(alldates[j].month),str(alldates[j].day)])"
   ]
  },
  {
   "cell_type": "code",
   "execution_count": 8,
   "metadata": {
    "collapsed": true
   },
   "outputs": [],
   "source": [
    "cleandatevals = dict.fromkeys(alldates,0)\n",
    "for i in range(len(dates)):\n",
    "    cleandatevals[dates[i][:10]]+=1\n"
   ]
  },
  {
   "cell_type": "code",
   "execution_count": 9,
   "metadata": {},
   "outputs": [
    {
     "data": {
      "text/plain": [
       "439"
      ]
     },
     "execution_count": 9,
     "metadata": {},
     "output_type": "execute_result"
    }
   ],
   "source": [
    "len(alldates)"
   ]
  },
  {
   "cell_type": "code",
   "execution_count": 10,
   "metadata": {
    "collapsed": true
   },
   "outputs": [],
   "source": [
    "fig,ax = plt.subplots()\n",
    "import matplotlib.dates as mdates\n",
    "import numpy as np\n",
    "plt.xticks(range(len(alldates)),alldates, size='small',rotation=\"vertical\")\n",
    "dates = mdates.drange(date2,date1+datetime.timedelta(days=1), \n",
    "                      datetime.timedelta(days=1))\n",
    "width = np.diff(dates).min()\n",
    "#plt.plot(dates,cleandatevals.values())\n",
    "ax.bar(dates, cleandatevals.values(), align='center', width=width)\n",
    "ax.xaxis_date()\n",
    "\n",
    "# Make space for and rotate the x-axis tick labels\n",
    "fig.autofmt_xdate()\n",
    "\n",
    "plt.xlabel(\"Dates\")\n",
    "plt.ylabel(\"Number of Tweets\")\n",
    "plt.title(\"Number of Tweets by Trump by Date\")\n",
    "plt.savefig(\"trumptest.png\")"
   ]
  },
  {
   "cell_type": "code",
   "execution_count": 11,
   "metadata": {},
   "outputs": [
    {
     "data": {
      "text/plain": [
       "'2017-10-20 05:12:44'"
      ]
     },
     "execution_count": 11,
     "metadata": {},
     "output_type": "execute_result"
    }
   ],
   "source": [
    "df.created_at.tolist()[0]"
   ]
  },
  {
   "cell_type": "code",
   "execution_count": 15,
   "metadata": {},
   "outputs": [
    {
     "name": "stdout",
     "output_type": "stream",
     "text": [
      "Our country has been unsuccessfully dealing with North Korea for 25 years, giving billions of dollars &amp; getting nothing. Policy didn't work!\n",
      "Presidents and their administrations have been talking to North Korea for 25 years, agreements made and massive amounts of money paid......\n",
      "Great interview on @foxandfriends with the parents of Otto Warmbier: 1994 - 2017. Otto was tortured beyond belief by North Korea.\n",
      "Just heard Foreign Minister of North Korea speak at U.N. If he echoes thoughts of Little Rocket Man, they won't be around much longer!\n",
      "Iran just test-fired a Ballistic Missile capable of reaching Israel.They are also working with North Korea.Not much of an agreement we have!\n",
      "Kim Jong Un of North Korea, who is obviously a madman who doesn't mind starving or killing his people, will be tested like never before!\n",
      "Today, I announced a new Executive Order with re: to North Korea. We must all do our part to ensure the complete de https://t.co/cPAHwPXUmA\n",
      "RT @RealEagleBites: @realDonaldTrump It is the height of hypocrisy. Obama and Clinton in effect gave nuclear weapons to North Korea by thei \n",
      "After allowing North Korea to research and build Nukes while Secretary of State (Bill C also), Crooked Hillary now criticizes.\n",
      "The United States is considering, in addition to other options, stopping all trade with any country doing business with North Korea.\n",
      "I will be meeting General Kelly, General Mattis and other military leaders at the White House to discuss North Korea. Thank you.\n",
      "..North Korea is a rogue nation which has become a great threat and embarrassment to China, which is trying to help but with little success.\n",
      "North Korea has conducted a major Nuclear Test. Their words and actions continue to be very hostile and dangerous to the United States.....\n",
      "The U.S. has been talking to North Korea, and paying them extortion money, for 25 years. Talking is not the answer!\n",
      "Kim Jong Un of North Korea made a very wise and well reasoned decision. The alternative would have been both catastrophic and unacceptable!\n",
      "RT @foxandfriends: Sec. Mattis: If North Korea fires missile at US, it's 'game on' https://t.co/CfPL9u2I2G\n",
      "RT @FoxNews: .@AlanDersh: Trump Has 'More Credibility' Than Obama With North Korea https://t.co/0w1L01EL0q https://t.co/9Q3FYUmNy1\n",
      "Military solutions are now fully in place,locked and loaded,should North Korea act unwisely. Hopefully Kim Jong Un will find another path!\n",
      "RT @foxandfriends: FOX NEWS ALERT: North Korea responds to U.S. with Guam attack plan as Secretary Mattis warns Kim Jung Un he is grossly \n",
      "RT @TheFive: \"@POTUS being unpredictable is a big asset, North Korea knew exactly what President Obama was going to do.\"- @jessebwatters\n",
      "RT @foxandfriends: President Trump vows America will respond to North Korean threats with \"fire &amp; fury\" in a warning to the rogue nation ht \n",
      "RT @foxandfriends: Trump vows U.S. 'power' will meet North Korean threat https://t.co/od7Ohr51XD\n",
      "After many years of failure,countries are coming together to finally address the dangers posed by North Korea. We must be tough &amp; decisive!\n",
      "RT @foxandfriends: U.S. spy satellites detect North Korea moving anti-ship cruise missiles to patrol boat https://t.co/BPFXsLffgy\n",
      "The Fake News Media will not talk about the importance of the United Nations Security Council's 15-0 vote in favor of sanctions on N. Korea!\n",
      "United Nations Resolution is the single largest economic sanctions package ever on North Korea. Over one billion dollars in cost to N.K.\n",
      "The United Nations Security Council just voted 15-0 to sanction North Korea. China and Russia voted with us. Very big financial impact!\n",
      "...they do NOTHING for us with North Korea, just talk. We will no longer allow this to continue. China could easily solve this problem!\n",
      "Leaving Hamburg for Washington, D.C. and the WH. Just left China s President Xi where we had an excellent meeting on trade &amp; North Korea.\n",
      "Trade between China and North Korea grew almost 40% in the first quarter. So much for China working with us - but we had to give it a try!\n",
      "....and Japan will put up with this much longer. Perhaps China will put a heavy move on North Korea and end this nonsense once and for all!\n",
      "The era of strategic patience with the North Korea regime has failed. That patience is over. We are working closely https://t.co/MxN04V2Yn4\n",
      "While I greatly appreciate the efforts of President Xi &amp; China to help with North Korea, it has not worked out. At least I know China tried!\n",
      "The U.S. once again condemns the brutality of the North Korean regime as we mourn its latest victim. Video: https://t.co/Rvm11ZbPk7\n",
      "North Korea has shown great disrespect for their neighbor, China, by shooting off yet another ballistic missile...but China is trying hard!\n",
      "North Korea disrespected the wishes of China &amp; its highly respected President when it launched, though unsuccessfully, a missile today. Bad!\n",
      "China is very much the economic lifeline to North Korea so, while nothing is easy, if they want to solve the North Korean problem, they will\n",
      "Why would I call China a currency manipulator when they are working with us on the North Korean problem? We will see what happens!\n",
      "I have great confidence that China will properly deal with North Korea. If they are unable to do so, the U.S., with its allies, will! U.S.A.\n",
      "Had a very good call last night with the President of China concerning the menace of North Korea.\n",
      "North Korea is looking for trouble. If China decides to help, that would be great. If not, we will solve the problem without them! U.S.A.\n",
      "I explained to the President of China that a trade deal with the U.S. will be far better for them if they solve the North Korean problem!\n",
      "North Korea is behaving very badly. They have been \"playing\" the United States for years. China has done little to help!\n",
      "The real story here is why are there so many illegal leaks coming out of Washington? Will these leaks be happening as I deal on N.Korea etc?\n",
      "#ICYMI: Joint Statement with Prime Minister Shinzo Abe on North Korea. https://t.co/qEC87FKB1D\n",
      "China has been taking out massive amounts of money &amp; wealth from the U.S. in totally one-sided trade, but won't help with North Korea. Nice!\n",
      "North Korea just stated that it is in the final stages of developing a nuclear weapon capable of reaching parts of the U.S. It won't happen!\n",
      "Russia has more warheads than ever, N Korea is testing nukes, and Iran got a sweetheart deal to keep theirs. Thanks, @HillaryClinton.\n"
     ]
    }
   ],
   "source": [
    "countkorea = 0\n",
    "idx = []\n",
    "for i in range(len(cleanedtweets)):\n",
    "    if \"Korea\" in cleanedtweets[i] and \"South Korea\" not in cleanedtweets[i]:\n",
    "        countkorea+=1\n",
    "        idx.append(i)\n",
    "        print cleanedtweets[i]"
   ]
  },
  {
   "cell_type": "code",
   "execution_count": 14,
   "metadata": {},
   "outputs": [
    {
     "data": {
      "text/plain": [
       "48"
      ]
     },
     "execution_count": 14,
     "metadata": {},
     "output_type": "execute_result"
    }
   ],
   "source": [
    "countkorea"
   ]
  },
  {
   "cell_type": "code",
   "execution_count": 25,
   "metadata": {},
   "outputs": [
    {
     "data": {
      "text/plain": [
       "48"
      ]
     },
     "execution_count": 25,
     "metadata": {},
     "output_type": "execute_result"
    }
   ],
   "source": [
    "len(set(df.iloc[idx].created_at.tolist()))"
   ]
  },
  {
   "cell_type": "code",
   "execution_count": 39,
   "metadata": {},
   "outputs": [
    {
     "name": "stdout",
     "output_type": "stream",
     "text": [
      "48\n",
      "37\n"
     ]
    }
   ],
   "source": [
    "uniquedates = df.iloc[idx].created_at.tolist()\n",
    "print len(uniquedates)\n",
    "uniquedates = ['-'.join(i[:10].split('-')) for i in uniquedates]\n",
    "print len(set(uniquedates))"
   ]
  },
  {
   "cell_type": "code",
   "execution_count": 41,
   "metadata": {},
   "outputs": [
    {
     "data": {
      "text/plain": [
       "{'2016-09-27',\n",
       " '2017-01-02',\n",
       " '2017-02-12',\n",
       " '2017-02-14',\n",
       " '2017-03-17',\n",
       " '2017-04-11',\n",
       " '2017-04-12',\n",
       " '2017-04-13',\n",
       " '2017-04-16',\n",
       " '2017-04-21',\n",
       " '2017-04-28',\n",
       " '2017-05-29',\n",
       " '2017-06-20',\n",
       " '2017-06-30',\n",
       " '2017-07-04',\n",
       " '2017-07-05',\n",
       " '2017-07-08',\n",
       " '2017-07-29',\n",
       " '2017-08-05',\n",
       " '2017-08-07',\n",
       " '2017-08-08',\n",
       " '2017-08-09',\n",
       " '2017-08-10',\n",
       " '2017-08-11',\n",
       " '2017-08-13',\n",
       " '2017-08-15',\n",
       " '2017-08-16',\n",
       " '2017-08-30',\n",
       " '2017-09-03',\n",
       " '2017-09-20',\n",
       " '2017-09-21',\n",
       " '2017-09-22',\n",
       " '2017-09-23',\n",
       " '2017-09-24',\n",
       " '2017-09-26',\n",
       " '2017-10-07',\n",
       " '2017-10-09'}"
      ]
     },
     "execution_count": 41,
     "metadata": {},
     "output_type": "execute_result"
    }
   ],
   "source": [
    "set(uniquedates)"
   ]
  },
  {
   "cell_type": "code",
   "execution_count": null,
   "metadata": {
    "collapsed": true
   },
   "outputs": [],
   "source": []
  }
 ],
 "metadata": {
  "kernelspec": {
   "display_name": "Python 2",
   "language": "python",
   "name": "python2"
  },
  "language_info": {
   "codemirror_mode": {
    "name": "ipython",
    "version": 2
   },
   "file_extension": ".py",
   "mimetype": "text/x-python",
   "name": "python",
   "nbconvert_exporter": "python",
   "pygments_lexer": "ipython2",
   "version": "2.7.13"
  }
 },
 "nbformat": 4,
 "nbformat_minor": 2
}
