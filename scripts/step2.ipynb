{
 "cells": [
  {
   "cell_type": "code",
   "execution_count": 3,
   "metadata": {
    "collapsed": true
   },
   "outputs": [],
   "source": [
    "import pandas as pd\n",
    "currency = pd.read_csv('../data/Korea_CER.csv')\n",
    "tweets = pd.read_csv('../data/realDonaldTrump_tweets.csv')"
   ]
  },
  {
   "cell_type": "code",
   "execution_count": 27,
   "metadata": {},
   "outputs": [
    {
     "data": {
      "text/plain": [
       "0     2016-08-01\n",
       "1     2016-08-02\n",
       "2     2016-08-03\n",
       "3     2016-08-04\n",
       "4     2016-08-05\n",
       "5     2016-08-08\n",
       "6     2016-08-09\n",
       "7     2016-08-10\n",
       "8     2016-08-11\n",
       "9     2016-08-12\n",
       "10    2016-08-15\n",
       "11    2016-08-16\n",
       "12    2016-08-17\n",
       "13    2016-08-18\n",
       "14    2016-08-19\n",
       "15    2016-08-22\n",
       "16    2016-08-23\n",
       "17    2016-08-24\n",
       "18    2016-08-25\n",
       "19    2016-08-26\n",
       "20    2016-08-29\n",
       "21    2016-08-30\n",
       "22    2016-08-31\n",
       "23    2016-09-01\n",
       "24    2016-09-02\n",
       "25    2016-09-05\n",
       "26    2016-09-06\n",
       "27    2016-09-07\n",
       "28    2016-09-08\n",
       "29    2016-09-09\n",
       "         ...    \n",
       "295   2017-09-18\n",
       "296   2017-09-19\n",
       "297   2017-09-20\n",
       "298   2017-09-21\n",
       "299   2017-09-22\n",
       "300   2017-09-25\n",
       "301   2017-09-26\n",
       "302   2017-09-27\n",
       "303   2017-09-28\n",
       "304   2017-09-29\n",
       "305   2017-10-02\n",
       "306   2017-10-03\n",
       "307   2017-10-04\n",
       "308   2017-10-05\n",
       "309   2017-10-06\n",
       "310   2017-10-09\n",
       "311   2017-10-10\n",
       "312   2017-10-11\n",
       "313   2017-10-12\n",
       "314   2017-10-13\n",
       "315   2017-10-16\n",
       "316   2017-10-17\n",
       "317   2017-10-18\n",
       "318   2017-10-19\n",
       "319   2017-10-20\n",
       "320   2017-10-23\n",
       "321   2017-10-24\n",
       "322   2017-10-25\n",
       "323   2017-10-26\n",
       "324   2017-10-27\n",
       "Name: date, Length: 325, dtype: datetime64[ns]"
      ]
     },
     "execution_count": 27,
     "metadata": {},
     "output_type": "execute_result"
    }
   ],
   "source": [
    "currency.columns = ['date', 'currency']\n",
    "tweets.head()\n",
    "currency.head()\n",
    "# tweets.iloc[0:3]\n",
    "pd.to_datetime(tweets.created_at)\n",
    "pd.to_datetime(currency.date)"
   ]
  },
  {
   "cell_type": "code",
   "execution_count": null,
   "metadata": {
    "collapsed": true
   },
   "outputs": [],
   "source": []
  },
  {
   "cell_type": "code",
   "execution_count": null,
   "metadata": {
    "collapsed": true
   },
   "outputs": [],
   "source": []
  }
 ],
 "metadata": {
  "kernelspec": {
   "display_name": "Python 3",
   "language": "python",
   "name": "python3"
  },
  "language_info": {
   "codemirror_mode": {
    "name": "ipython",
    "version": 3
   },
   "file_extension": ".py",
   "mimetype": "text/x-python",
   "name": "python",
   "nbconvert_exporter": "python",
   "pygments_lexer": "ipython3",
   "version": "3.6.2"
  }
 },
 "nbformat": 4,
 "nbformat_minor": 2
}
